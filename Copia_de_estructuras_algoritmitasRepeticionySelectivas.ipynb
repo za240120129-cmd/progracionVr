{
  "nbformat": 4,
  "nbformat_minor": 0,
  "metadata": {
    "colab": {
      "provenance": [],
      "authorship_tag": "ABX9TyM9z09wA5Wv6AU87thZFJjG",
      "include_colab_link": true
    },
    "kernelspec": {
      "name": "python3",
      "display_name": "Python 3"
    },
    "language_info": {
      "name": "python"
    }
  },
  "cells": [
    {
      "cell_type": "markdown",
      "metadata": {
        "id": "view-in-github",
        "colab_type": "text"
      },
      "source": [
        "<a href=\"https://colab.research.google.com/github/za240120129-cmd/progracionVr/blob/main/Copia_de_estructuras_algoritmitasRepeticionySelectivas.ipynb\" target=\"_parent\"><img src=\"https://colab.research.google.com/assets/colab-badge.svg\" alt=\"Open In Colab\"/></a>"
      ]
    },
    {
      "cell_type": "code",
      "execution_count": null,
      "metadata": {
        "colab": {
          "base_uri": "https://localhost:8080/"
        },
        "id": "A737xB759DP8",
        "outputId": "efc2ee83-45d4-4912-b47e-ebea5d9f156b"
      },
      "outputs": [
        {
          "output_type": "stream",
          "name": "stdout",
          "text": [
            "0.5\n"
          ]
        }
      ],
      "source": [
        "a= 2\n",
        "b= 4\n",
        "\n",
        "if b!=0:\n",
        "\n",
        "  print(a/b)"
      ]
    },
    {
      "cell_type": "markdown",
      "source": [
        "monitorea la temperatura de un sensor digital .si la temperatura execede los 70 . activa un ventilador si baja de 65.c ,apagalo el\n",
        "monitoreo debe ser continuo."
      ],
      "metadata": {
        "id": "bkbxSOxqCwbd"
      }
    },
    {
      "cell_type": "code",
      "source": [
        "if b !=0:\n",
        "  c=a/b\n",
        "  d=c+1\n",
        "  print(d)"
      ],
      "metadata": {
        "colab": {
          "base_uri": "https://localhost:8080/"
        },
        "id": "-le-HAVI-FA2",
        "outputId": "0777354b-b8b9-4a75-ec9b-73eb9ed21660"
      },
      "execution_count": null,
      "outputs": [
        {
          "output_type": "stream",
          "name": "stdout",
          "text": [
            "1.5\n"
          ]
        }
      ]
    },
    {
      "cell_type": "markdown",
      "source": [
        "una plkaca verifica el voltaje de 5 baterias en cada ciclo. si alguna bateria tiene de menos de 3.3 v \"baja\";si igual/mayor a 4.0v optima\";entre 3.3v y 4.0v\"Advetencia\".\n",
        "uasr bucle for para recorrer los voltajes\n",
        "condiciones if-elif-else para la clasificacion."
      ],
      "metadata": {
        "id": "s8uGVx90JQwF"
      }
    },
    {
      "cell_type": "code",
      "source": [
        "import random\n",
        "import time\n",
        "\n",
        "#simulacion del sensor de temperatura\n",
        "temperaturas_simuladas = [random.randint(50, 100) for _ in range(20)]\n",
        "\n",
        "ventilador_encedido = False\n",
        "indice = 0\n",
        "\n",
        "#monitoreo continuo\n",
        "while indice < len(temperaturas_simuladas):\n",
        "    temperatura_actual = temperaturas_simuladas[indice]\n",
        "    print(f\"Temperatura actual: {temperatura_actual}\")\n",
        "\n",
        "    if temperatura_actual > 70 and not ventilador_encedido:\n",
        "        ventilador_encedido = True\n",
        "        print(\"Ventilador encendido\")\n",
        "    elif temperatura_actual < 65 and ventilador_encedido:\n",
        "        ventilador_encedido = False\n",
        "        print(\"Ventilador apagado\")\n",
        "    else:\n",
        "        print(\"Ventilador en funcionamiento\")\n",
        "\n",
        "    indice += 1\n",
        "    time.sleep(1) # Simulate delay"
      ],
      "metadata": {
        "colab": {
          "base_uri": "https://localhost:8080/"
        },
        "id": "-i1rnfWXD35V",
        "outputId": "63263c5c-ff64-45eb-ebdd-2d317b457cd8"
      },
      "execution_count": null,
      "outputs": [
        {
          "output_type": "stream",
          "name": "stdout",
          "text": [
            "Temperatura actual: 89\n",
            "Ventilador encendido\n",
            "Temperatura actual: 91\n",
            "Ventilador en funcionamiento\n",
            "Temperatura actual: 71\n",
            "Ventilador en funcionamiento\n",
            "Temperatura actual: 99\n",
            "Ventilador en funcionamiento\n",
            "Temperatura actual: 66\n",
            "Ventilador en funcionamiento\n",
            "Temperatura actual: 70\n",
            "Ventilador en funcionamiento\n",
            "Temperatura actual: 90\n",
            "Ventilador en funcionamiento\n",
            "Temperatura actual: 92\n",
            "Ventilador en funcionamiento\n",
            "Temperatura actual: 65\n",
            "Ventilador en funcionamiento\n",
            "Temperatura actual: 90\n",
            "Ventilador en funcionamiento\n",
            "Temperatura actual: 59\n",
            "Ventilador apagado\n",
            "Temperatura actual: 51\n",
            "Ventilador en funcionamiento\n",
            "Temperatura actual: 55\n",
            "Ventilador en funcionamiento\n",
            "Temperatura actual: 66\n",
            "Ventilador en funcionamiento\n",
            "Temperatura actual: 88\n",
            "Ventilador encendido\n",
            "Temperatura actual: 100\n",
            "Ventilador en funcionamiento\n",
            "Temperatura actual: 64\n",
            "Ventilador apagado\n",
            "Temperatura actual: 90\n",
            "Ventilador encendido\n",
            "Temperatura actual: 57\n",
            "Ventilador apagado\n",
            "Temperatura actual: 56\n",
            "Ventilador en funcionamiento\n"
          ]
        }
      ]
    },
    {
      "cell_type": "markdown",
      "source": [
        "uso de operaciones con la sentencvia if yla impresion dentro y fuerade la misma"
      ],
      "metadata": {
        "id": "dVBq8CT0AAcI"
      }
    },
    {
      "cell_type": "markdown",
      "source": [],
      "metadata": {
        "id": "N2YqeNJQ-CkH"
      }
    },
    {
      "cell_type": "code",
      "source": [
        "import random\n",
        "\n",
        "#simulacion de voltajes de baterias\n",
        "dispositivos = 5\n",
        "voltaje = [round(random.uniform(3.0, 4.2), 2) for _ in range(dispositivos)]\n",
        "\n",
        "#clasificacion de cada bateria\n",
        "for i, vol in enumerate(voltaje , 1):\n",
        "  if vol < 3.3:\n",
        "    estado = \"baja\"\n",
        "  elif vol >= 4.0:\n",
        "    estado = \"optima\"\n",
        "  else:\n",
        "    estado = \"advertencia\" # Corrected spelling\n",
        "\n",
        "  print(f\"bateria {i}: {estado}\")"
      ],
      "metadata": {
        "colab": {
          "base_uri": "https://localhost:8080/"
        },
        "id": "bqTFgQJDKjYL",
        "outputId": "9597c741-41f4-4b02-a1e8-e8e5eb05d7bd"
      },
      "execution_count": null,
      "outputs": [
        {
          "output_type": "stream",
          "name": "stdout",
          "text": [
            "bateria 1: baja\n",
            "bateria 2: advertencia\n",
            "bateria 3: optima\n",
            "bateria 4: advertencia\n",
            "bateria 5: baja\n"
          ]
        }
      ]
    },
    {
      "cell_type": "markdown",
      "source": [],
      "metadata": {
        "id": "HaipuAWjCtzF"
      }
    }
  ]
}